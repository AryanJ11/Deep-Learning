{
 "cells": [
  {
   "cell_type": "code",
   "execution_count": 1,
   "metadata": {},
   "outputs": [
    {
     "name": "stdout",
     "output_type": "stream",
     "text": [
      "Default GPU Device:/device:GPU:0\n"
     ]
    }
   ],
   "source": [
    "import numpy as np\n",
    "import matplotlib.pyplot as plt\n",
    "import tensorflow as tf\n",
    "physical_devices = tf.config.list_physical_devices('GPU') \n",
    "tf.config.experimental.set_memory_growth(physical_devices[0], True)\n",
    "if tf.test.gpu_device_name(): \n",
    "    print('Default GPU Device:{}'.format(tf.test.gpu_device_name()))\n",
    "else:\n",
    "    print(\"Please install GPU version of TF\")\n",
    "from tensorflow import keras\n",
    "import tensorflow_datasets as tfds\n",
    "import openpyxl\n",
    "import pandas as pd\n",
    "import os"
   ]
  },
  {
   "cell_type": "code",
   "execution_count": 2,
   "metadata": {},
   "outputs": [],
   "source": [
    "BASE_DIR=os.getcwd()\n",
    "Glove=os.path.join(BASE_DIR,r'Desktop\\glove.6B')\n",
    "embeddings_index = {}\n",
    "with open(os.path.join(Glove,r'glove.6B.50d.txt'),encoding=\"utf8\") as f:\n",
    "    for line in f:\n",
    "        word, coefs = line.split(maxsplit=1)\n",
    "        coefs = np.fromstring(coefs, 'f', sep=' ')\n",
    "        embeddings_index[word] = coefs"
   ]
  },
  {
   "cell_type": "code",
   "execution_count": 3,
   "metadata": {},
   "outputs": [
    {
     "name": "stdout",
     "output_type": "stream",
     "text": [
      "['Tweets']\n"
     ]
    }
   ],
   "source": [
    "file=r'C:\\Users\\ARYAN JAIN\\Desktop\\sentdata.xlsx'\n",
    "data=pd.ExcelFile(file)\n",
    "print(data.sheet_names)"
   ]
  },
  {
   "cell_type": "code",
   "execution_count": 4,
   "metadata": {},
   "outputs": [
    {
     "data": {
      "text/html": [
       "<div>\n",
       "<style scoped>\n",
       "    .dataframe tbody tr th:only-of-type {\n",
       "        vertical-align: middle;\n",
       "    }\n",
       "\n",
       "    .dataframe tbody tr th {\n",
       "        vertical-align: top;\n",
       "    }\n",
       "\n",
       "    .dataframe thead th {\n",
       "        text-align: right;\n",
       "    }\n",
       "</style>\n",
       "<table border=\"1\" class=\"dataframe\">\n",
       "  <thead>\n",
       "    <tr style=\"text-align: right;\">\n",
       "      <th></th>\n",
       "      <th>tweet_id</th>\n",
       "      <th>airline_sentiment</th>\n",
       "      <th>airline_sentiment_confidence</th>\n",
       "      <th>negativereason</th>\n",
       "      <th>negativereason_confidence</th>\n",
       "      <th>airline</th>\n",
       "      <th>text</th>\n",
       "    </tr>\n",
       "  </thead>\n",
       "  <tbody>\n",
       "    <tr>\n",
       "      <th>0</th>\n",
       "      <td>570306133677760000</td>\n",
       "      <td>neutral</td>\n",
       "      <td>1.0000</td>\n",
       "      <td>NaN</td>\n",
       "      <td>NaN</td>\n",
       "      <td>Virgin America</td>\n",
       "      <td>What @dhepburn said.T5</td>\n",
       "    </tr>\n",
       "    <tr>\n",
       "      <th>1</th>\n",
       "      <td>570301130888121984</td>\n",
       "      <td>positive</td>\n",
       "      <td>0.3486</td>\n",
       "      <td>NaN</td>\n",
       "      <td>0.0000</td>\n",
       "      <td>Virgin America</td>\n",
       "      <td>@VirginAmerica plus you've added commercials t...</td>\n",
       "    </tr>\n",
       "    <tr>\n",
       "      <th>2</th>\n",
       "      <td>570301083672812992</td>\n",
       "      <td>neutral</td>\n",
       "      <td>0.6837</td>\n",
       "      <td>NaN</td>\n",
       "      <td>NaN</td>\n",
       "      <td>Virgin America</td>\n",
       "      <td>@VirginAmerica I didn't today... Must mean I n...</td>\n",
       "    </tr>\n",
       "    <tr>\n",
       "      <th>3</th>\n",
       "      <td>570301031407624000</td>\n",
       "      <td>negative</td>\n",
       "      <td>1.0000</td>\n",
       "      <td>Bad Flight</td>\n",
       "      <td>0.7033</td>\n",
       "      <td>Virgin America</td>\n",
       "      <td>@VirginAmerica it's really aggressive to blast...</td>\n",
       "    </tr>\n",
       "    <tr>\n",
       "      <th>4</th>\n",
       "      <td>570300817074462016</td>\n",
       "      <td>negative</td>\n",
       "      <td>1.0000</td>\n",
       "      <td>Can't Tell</td>\n",
       "      <td>1.0000</td>\n",
       "      <td>Virgin America</td>\n",
       "      <td>@VirginAmerica and it's a really big bad thing...</td>\n",
       "    </tr>\n",
       "    <tr>\n",
       "      <th>5</th>\n",
       "      <td>570300767074180992</td>\n",
       "      <td>negative</td>\n",
       "      <td>1.0000</td>\n",
       "      <td>Can't Tell</td>\n",
       "      <td>0.6842</td>\n",
       "      <td>Virgin America</td>\n",
       "      <td>@VirginAmerica seriously would pay $30 a fligh...</td>\n",
       "    </tr>\n",
       "    <tr>\n",
       "      <th>6</th>\n",
       "      <td>570300616901320000</td>\n",
       "      <td>positive</td>\n",
       "      <td>0.6745</td>\n",
       "      <td>NaN</td>\n",
       "      <td>0.0000</td>\n",
       "      <td>Virgin America</td>\n",
       "      <td>@VirginAmerica yes, nearly every time I fly VX...</td>\n",
       "    </tr>\n",
       "    <tr>\n",
       "      <th>7</th>\n",
       "      <td>570300248553348992</td>\n",
       "      <td>neutral</td>\n",
       "      <td>0.6340</td>\n",
       "      <td>NaN</td>\n",
       "      <td>NaN</td>\n",
       "      <td>Virgin America</td>\n",
       "      <td>@VirginAmerica Really missed a prime opportuni...</td>\n",
       "    </tr>\n",
       "    <tr>\n",
       "      <th>8</th>\n",
       "      <td>570299953286942016</td>\n",
       "      <td>positive</td>\n",
       "      <td>0.6559</td>\n",
       "      <td>NaN</td>\n",
       "      <td>NaN</td>\n",
       "      <td>Virgin America</td>\n",
       "      <td>@virginamerica Well, I didn'tâ€¦but NOW I DO! :-D</td>\n",
       "    </tr>\n",
       "    <tr>\n",
       "      <th>9</th>\n",
       "      <td>570295459631262976</td>\n",
       "      <td>positive</td>\n",
       "      <td>1.0000</td>\n",
       "      <td>NaN</td>\n",
       "      <td>NaN</td>\n",
       "      <td>Virgin America</td>\n",
       "      <td>it was amazing, and arrived an hour early.  t...</td>\n",
       "    </tr>\n",
       "  </tbody>\n",
       "</table>\n",
       "</div>"
      ],
      "text/plain": [
       "             tweet_id airline_sentiment  airline_sentiment_confidence  \\\n",
       "0  570306133677760000           neutral                        1.0000   \n",
       "1  570301130888121984          positive                        0.3486   \n",
       "2  570301083672812992           neutral                        0.6837   \n",
       "3  570301031407624000          negative                        1.0000   \n",
       "4  570300817074462016          negative                        1.0000   \n",
       "5  570300767074180992          negative                        1.0000   \n",
       "6  570300616901320000          positive                        0.6745   \n",
       "7  570300248553348992           neutral                        0.6340   \n",
       "8  570299953286942016          positive                        0.6559   \n",
       "9  570295459631262976          positive                        1.0000   \n",
       "\n",
       "  negativereason  negativereason_confidence         airline  \\\n",
       "0            NaN                        NaN  Virgin America   \n",
       "1            NaN                     0.0000  Virgin America   \n",
       "2            NaN                        NaN  Virgin America   \n",
       "3     Bad Flight                     0.7033  Virgin America   \n",
       "4     Can't Tell                     1.0000  Virgin America   \n",
       "5     Can't Tell                     0.6842  Virgin America   \n",
       "6            NaN                     0.0000  Virgin America   \n",
       "7            NaN                        NaN  Virgin America   \n",
       "8            NaN                        NaN  Virgin America   \n",
       "9            NaN                        NaN  Virgin America   \n",
       "\n",
       "                                                text  \n",
       "0                             What @dhepburn said.T5  \n",
       "1  @VirginAmerica plus you've added commercials t...  \n",
       "2  @VirginAmerica I didn't today... Must mean I n...  \n",
       "3  @VirginAmerica it's really aggressive to blast...  \n",
       "4  @VirginAmerica and it's a really big bad thing...  \n",
       "5  @VirginAmerica seriously would pay $30 a fligh...  \n",
       "6  @VirginAmerica yes, nearly every time I fly VX...  \n",
       "7  @VirginAmerica Really missed a prime opportuni...  \n",
       "8  @virginamerica Well, I didn'tâ€¦but NOW I DO! :-D  \n",
       "9   it was amazing, and arrived an hour early.  t...  "
      ]
     },
     "execution_count": 4,
     "metadata": {},
     "output_type": "execute_result"
    }
   ],
   "source": [
    "df = data.parse('Tweets')\n",
    "df.info\n",
    "df.head(10)"
   ]
  },
  {
   "cell_type": "code",
   "execution_count": 5,
   "metadata": {},
   "outputs": [
    {
     "data": {
      "text/plain": [
       "14641"
      ]
     },
     "execution_count": 5,
     "metadata": {},
     "output_type": "execute_result"
    }
   ],
   "source": [
    "ps = openpyxl.load_workbook(r'C:\\Users\\ARYAN JAIN\\Desktop\\sentdata.xlsx')\n",
    "sheet = ps['Tweets']\n",
    "sheet.max_row "
   ]
  },
  {
   "cell_type": "code",
   "execution_count": 6,
   "metadata": {},
   "outputs": [],
   "source": [
    "X_dict={}\n",
    "Y_dict={}\n",
    "flight_name={}\n",
    "for row in range(2,sheet.max_row+1):\n",
    "    x=sheet['G'+str(row)].value\n",
    "    X_dict[row-2]=x\n",
    "    y=sheet['B'+str(row)].value\n",
    "    Y_dict[row-2]=y\n",
    "    f=sheet['F'+str(row)].value\n",
    "    flight_name[row-2]=f"
   ]
  },
  {
   "cell_type": "code",
   "execution_count": 7,
   "metadata": {},
   "outputs": [
    {
     "name": "stdout",
     "output_type": "stream",
     "text": [
      "Example of datset:\n",
      "\n",
      "Tweet:@VirginAmerica plus you've added commercials to the experience... tacky. |Sentiment:positive\n",
      "Tweet:@VirginAmerica did you know that suicide is the second leading cause of death among teens 10-24 |Sentiment:neutral\n"
     ]
    }
   ],
   "source": [
    "print(\"Example of datset:\\n\")\n",
    "print(\"Tweet:\"+X_dict[1]+\" |Sentiment:\"+Y_dict[1])\n",
    "print(\"Tweet:\"+X_dict[10]+\" |Sentiment:\"+Y_dict[10])"
   ]
  },
  {
   "cell_type": "code",
   "execution_count": 8,
   "metadata": {},
   "outputs": [],
   "source": [
    "Y_test=np.zeros((3000,3))\n",
    "Y_train=np.zeros((10000,3))\n",
    "Y_dev=np.zeros((1640,3))\n",
    "for i in range(len(Y_dict)):\n",
    "    if Y_dict[i]=='neutral':\n",
    "        Y_dict[i]=2\n",
    "    elif Y_dict[i]=='positive':\n",
    "        Y_dict[i]=1\n",
    "    elif Y_dict[i]=='negative':\n",
    "        Y_dict[i]=0\n",
    "    if i<10000:   \n",
    "        Y_train[i,Y_dict[i]]=1\n",
    "    if i>=10000 and i<13000:\n",
    "        Y_test[i-10000,Y_dict[i]]=1\n",
    "    if i>=13000:\n",
    "        Y_dev[i-13000,Y_dict[i]]=1"
   ]
  },
  {
   "cell_type": "code",
   "execution_count": 9,
   "metadata": {},
   "outputs": [
    {
     "name": "stdout",
     "output_type": "stream",
     "text": [
      "[[0. 0. 1.]\n",
      " [0. 1. 0.]\n",
      " [0. 0. 1.]\n",
      " ...\n",
      " [0. 1. 0.]\n",
      " [1. 0. 0.]\n",
      " [0. 0. 1.]] (10000, 3)\n"
     ]
    }
   ],
   "source": [
    "print(Y_train,Y_train.shape)"
   ]
  },
  {
   "cell_type": "code",
   "execution_count": 10,
   "metadata": {},
   "outputs": [],
   "source": [
    "import re\n",
    "import string"
   ]
  },
  {
   "cell_type": "code",
   "execution_count": 11,
   "metadata": {},
   "outputs": [],
   "source": [
    "def clean_text(text):\n",
    "    text = text.lower()\n",
    "    text = re.sub('\\[.*?\\]', '', text)\n",
    "    text = re.sub('https?://\\S+|www\\.\\S+', '', text)\n",
    "    text = re.sub('<.*?>+', '', text)\n",
    "    text = re.sub('[%s]' % re.escape(string.punctuation), '', text)\n",
    "    text = re.sub('\\n', '', text)\n",
    "    text = re.sub('\\w*\\d\\w*', '', text)\n",
    "    return text"
   ]
  },
  {
   "cell_type": "code",
   "execution_count": 12,
   "metadata": {},
   "outputs": [],
   "source": [
    "for i in range(len(X_dict)):\n",
    "    X_dict[i]=clean_text(X_dict[i])"
   ]
  },
  {
   "cell_type": "code",
   "execution_count": 14,
   "metadata": {},
   "outputs": [],
   "source": [
    "texts=[]\n",
    "for i in X_dict:\n",
    "    texts.append(X_dict[i])\n",
    "tokenizer=keras.preprocessing.text.Tokenizer(num_words=2**15)\n",
    "tokenizer.fit_on_texts(texts)\n",
    "sequences = tokenizer.texts_to_sequences(texts)"
   ]
  },
  {
   "cell_type": "code",
   "execution_count": 15,
   "metadata": {},
   "outputs": [
    {
     "name": "stdout",
     "output_type": "stream",
     "text": [
      "Tokenized string is: [78, 522, 543, 1089, 2372, 1, 2, 193, 5969]\n",
      "Orignal string is: virginamerica plus youve added commercials to the experience tacky\n"
     ]
    }
   ],
   "source": [
    "word_idx=tokenizer.word_index\n",
    "data=keras.preprocessing.sequence.pad_sequences(sequences, maxlen=100)\n",
    "print(\"Tokenized string is: {}\".format(sequences[1]))\n",
    "print(\"Orignal string is: {}\".format(texts[1]))"
   ]
  },
  {
   "cell_type": "code",
   "execution_count": 16,
   "metadata": {},
   "outputs": [
    {
     "name": "stdout",
     "output_type": "stream",
     "text": [
      "522\n"
     ]
    }
   ],
   "source": [
    "print(sequences[1][1])"
   ]
  },
  {
   "cell_type": "code",
   "execution_count": 17,
   "metadata": {},
   "outputs": [],
   "source": [
    "X_train=np.zeros(shape=(10000,100),dtype=np.int32)\n",
    "X_test=np.zeros(shape=(3000,100),dtype=np.int32)\n",
    "X_dev=np.zeros(shape=(1640,100),dtype=np.int32)\n",
    "for i in range(len(X_dict)):\n",
    "    n=len(sequences[i])\n",
    "    if i<10000:\n",
    "        X_train[i,0:n]=sequences[i]\n",
    "    if i>=10000 and i<13000:\n",
    "         X_test[i-10000,0:n]=sequences[i]\n",
    "    if i>=13000:\n",
    "         X_dev[i-13000,0:n]=sequences[i]"
   ]
  },
  {
   "cell_type": "code",
   "execution_count": 18,
   "metadata": {},
   "outputs": [
    {
     "name": "stdout",
     "output_type": "stream",
     "text": [
      "[  78  522  543 1089 2372    1    2  193 5969    0    0    0    0    0\n",
      "    0    0    0    0    0    0    0    0    0    0    0    0    0    0\n",
      "    0    0    0    0    0    0    0    0    0    0    0    0    0    0\n",
      "    0    0    0    0    0    0    0    0    0    0    0    0    0    0\n",
      "    0    0    0    0    0    0    0    0    0    0    0    0    0    0\n",
      "    0    0    0    0    0    0    0    0    0    0    0    0    0    0\n",
      "    0    0    0    0    0    0    0    0    0    0    0    0    0    0\n",
      "    0    0] \n",
      " [ 12   2 487 222 167   0   0   0   0   0   0   0   0   0   0   0   0   0\n",
      "   0   0   0   0   0   0   0   0   0   0   0   0   0   0   0   0   0   0\n",
      "   0   0   0   0   0   0   0   0   0   0   0   0   0   0   0   0   0   0\n",
      "   0   0   0   0   0   0   0   0   0   0   0   0   0   0   0   0   0   0\n",
      "   0   0   0   0   0   0   0   0   0   0   0   0   0   0   0   0   0   0\n",
      "   0   0   0   0   0   0   0   0   0   0] \n",
      " [  13   38  113  146  185  117    1 2572  109   10  576   23  693  337\n",
      "    0    0    0    0    0    0    0    0    0    0    0    0    0    0\n",
      "    0    0    0    0    0    0    0    0    0    0    0    0    0    0\n",
      "    0    0    0    0    0    0    0    0    0    0    0    0    0    0\n",
      "    0    0    0    0    0    0    0    0    0    0    0    0    0    0\n",
      "    0    0    0    0    0    0    0    0    0    0    0    0    0    0\n",
      "    0    0    0    0    0    0    0    0    0    0    0    0    0    0\n",
      "    0    0]\n",
      "Total number of words in vocabulary are 13519\n"
     ]
    }
   ],
   "source": [
    "print(X_train[1,:],\"\\n\",X_test[1,:],\"\\n\",X_dev[1,:])\n",
    "print(\"Total number of words in vocabulary are {}\".format(len(word_idx)))"
   ]
  },
  {
   "cell_type": "code",
   "execution_count": 19,
   "metadata": {},
   "outputs": [],
   "source": [
    "num_words = len(word_idx) + 1\n",
    "embedding_matrix = np.zeros((num_words, 50))\n",
    "for word, i in word_idx.items():\n",
    "    embedding_vector = embeddings_index.get(word)\n",
    "    if embedding_vector is not None:\n",
    "        embedding_matrix[i] = embedding_vector"
   ]
  },
  {
   "cell_type": "code",
   "execution_count": 20,
   "metadata": {},
   "outputs": [
    {
     "name": "stdout",
     "output_type": "stream",
     "text": [
      "(13520, 50)\n",
      "[ 0.68046999 -0.039263    0.30186    -0.17792     0.42962     0.032246\n",
      " -0.41376001  0.13228001 -0.29846999 -0.085253    0.17117999  0.22419\n",
      " -0.10046    -0.43652999  0.33418     0.67846     0.057204   -0.34448001\n",
      " -0.42785001 -0.43274999  0.55962998  0.10032     0.18677001 -0.26853999\n",
      "  0.037334   -2.09319997  0.22171    -0.39868     0.20912001 -0.55725002\n",
      "  3.88260007  0.47466001 -0.95657998 -0.37788001  0.20869    -0.32752001\n",
      "  0.12751     0.088359    0.16350999 -0.21634001 -0.094375    0.018324\n",
      "  0.21048    -0.03088    -0.19722     0.082279   -0.09434    -0.073297\n",
      " -0.064699   -0.26043999]\n",
      "1\n",
      "[ 0.68047  -0.039263  0.30186  -0.17792   0.42962   0.032246 -0.41376\n",
      "  0.13228  -0.29847  -0.085253  0.17118   0.22419  -0.10046  -0.43653\n",
      "  0.33418   0.67846   0.057204 -0.34448  -0.42785  -0.43275   0.55963\n",
      "  0.10032   0.18677  -0.26854   0.037334 -2.0932    0.22171  -0.39868\n",
      "  0.20912  -0.55725   3.8826    0.47466  -0.95658  -0.37788   0.20869\n",
      " -0.32752   0.12751   0.088359  0.16351  -0.21634  -0.094375  0.018324\n",
      "  0.21048  -0.03088  -0.19722   0.082279 -0.09434  -0.073297 -0.064699\n",
      " -0.26044 ]\n"
     ]
    }
   ],
   "source": [
    "print(embedding_matrix.shape)\n",
    "print(embedding_matrix[1,:])\n",
    "print(word_idx['to'])\n",
    "print(embeddings_index['to'])"
   ]
  },
  {
   "cell_type": "code",
   "execution_count": 22,
   "metadata": {},
   "outputs": [],
   "source": [
    "embedding_layer=keras.layers.Embedding(num_words,50,embeddings_initializer=keras.initializers.Constant(embedding_matrix),\n",
    "                            input_length=100,trainable=False)"
   ]
  },
  {
   "cell_type": "code",
   "execution_count": 23,
   "metadata": {},
   "outputs": [],
   "source": [
    "def plot_graphs(history, metric):\n",
    "    plt.plot(history.history[metric],'b')\n",
    "    plt.plot(history.history['val_'+metric],'r')\n",
    "    plt.xlabel(\"Epochs\")\n",
    "    plt.ylabel(metric)\n",
    "    plt.legend([metric, 'val_'+metric])\n",
    "    plt.title(metric)\n",
    "    plt.show()"
   ]
  },
  {
   "cell_type": "code",
   "execution_count": 24,
   "metadata": {},
   "outputs": [],
   "source": [
    "def model():\n",
    "    \n",
    "    Xi=tf.keras.Input(shape=(100,),dtype='int32')\n",
    "    X1=embedding_layer(Xi)\n",
    "    X=tf.keras.layers.Bidirectional(tf.keras.layers.LSTM(units=100,name=\"lstm1\"))(X1)\n",
    "    t=tf.keras.layers.LSTM(units=100,trainable=False,name=\"lstm2\")(X1)\n",
    "    X=tf.keras.layers.Dense(100,activation='relu')(X)\n",
    "    X=tf.keras.layers.Dropout(rate=0.41)(X)\n",
    "    X=tf.keras.layers.Dense(32,activation='relu')(X)\n",
    "    #t=tf.keras.layers.Dense(100,activation='softmax',trainable=False)(t)\n",
    "    X=tf.keras.layers.Dense(3,activation='softmax',name='final')(X)\n",
    "    model=tf.keras.Model(inputs=Xi,outputs=[X,t])\n",
    "    return model"
   ]
  },
  {
   "cell_type": "code",
   "execution_count": 25,
   "metadata": {},
   "outputs": [],
   "source": [
    "model=model()"
   ]
  },
  {
   "cell_type": "code",
   "execution_count": 26,
   "metadata": {},
   "outputs": [
    {
     "name": "stdout",
     "output_type": "stream",
     "text": [
      "Model: \"model\"\n",
      "__________________________________________________________________________________________________\n",
      "Layer (type)                    Output Shape         Param #     Connected to                     \n",
      "==================================================================================================\n",
      "input_1 (InputLayer)            [(None, 100)]        0                                            \n",
      "__________________________________________________________________________________________________\n",
      "embedding (Embedding)           (None, 100, 50)      676000      input_1[0][0]                    \n",
      "__________________________________________________________________________________________________\n",
      "bidirectional (Bidirectional)   (None, 200)          120800      embedding[0][0]                  \n",
      "__________________________________________________________________________________________________\n",
      "dense (Dense)                   (None, 100)          20100       bidirectional[0][0]              \n",
      "__________________________________________________________________________________________________\n",
      "dropout (Dropout)               (None, 100)          0           dense[0][0]                      \n",
      "__________________________________________________________________________________________________\n",
      "dense_1 (Dense)                 (None, 32)           3232        dropout[0][0]                    \n",
      "__________________________________________________________________________________________________\n",
      "final (Dense)                   (None, 3)            99          dense_1[0][0]                    \n",
      "__________________________________________________________________________________________________\n",
      "lstm2 (LSTM)                    (None, 100)          60400       embedding[0][0]                  \n",
      "==================================================================================================\n",
      "Total params: 880,631\n",
      "Trainable params: 144,231\n",
      "Non-trainable params: 736,400\n",
      "__________________________________________________________________________________________________\n"
     ]
    }
   ],
   "source": [
    "model.summary()"
   ]
  },
  {
   "cell_type": "code",
   "execution_count": 27,
   "metadata": {},
   "outputs": [],
   "source": [
    "Y_ggg=np.zeros((10000,100),dtype=np.float32)"
   ]
  },
  {
   "cell_type": "code",
   "execution_count": 28,
   "metadata": {},
   "outputs": [],
   "source": [
    "Y_ggv=np.zeros((1640,100),dtype=np.float32)"
   ]
  },
  {
   "cell_type": "code",
   "execution_count": 29,
   "metadata": {},
   "outputs": [],
   "source": [
    "model.compile(optimizer=\"adam\",loss={'final':\"categorical_crossentropy\",'lstm2':\"categorical_crossentropy\"},metrics=['accuracy'])"
   ]
  },
  {
   "cell_type": "code",
   "execution_count": 30,
   "metadata": {
    "scrolled": false
   },
   "outputs": [
    {
     "name": "stdout",
     "output_type": "stream",
     "text": [
      "Train on 10000 samples, validate on 1640 samples\n",
      "Epoch 1/30\n",
      "10000/10000 [==============================] - 18s 2ms/sample - loss: 0.8334 - final_loss: 0.8334 - lstm2_loss: 0.0000e+00 - final_accuracy: 0.6390 - lstm2_accuracy: 0.0010 - val_loss: 0.5623 - val_final_loss: 0.5614 - val_lstm2_loss: 0.0000e+00 - val_final_accuracy: 0.7939 - val_lstm2_accuracy: 0.0037\n",
      "Epoch 2/30\n",
      "10000/10000 [==============================] - 4s 450us/sample - loss: 0.6902 - final_loss: 0.6902 - lstm2_loss: 0.0000e+00 - final_accuracy: 0.7169 - lstm2_accuracy: 0.0010 - val_loss: 0.5120 - val_final_loss: 0.5095 - val_lstm2_loss: 0.0000e+00 - val_final_accuracy: 0.8049 - val_lstm2_accuracy: 0.0037\n",
      "Epoch 3/30\n",
      "10000/10000 [==============================] - 4s 446us/sample - loss: 0.6482 - final_loss: 0.6482 - lstm2_loss: 0.0000e+00 - final_accuracy: 0.7378 - lstm2_accuracy: 0.0010 - val_loss: 0.5678 - val_final_loss: 0.5643 - val_lstm2_loss: 0.0000e+00 - val_final_accuracy: 0.7878 - val_lstm2_accuracy: 0.0037\n",
      "Epoch 4/30\n",
      "10000/10000 [==============================] - 4s 445us/sample - loss: 0.6222 - final_loss: 0.6222 - lstm2_loss: 0.0000e+00 - final_accuracy: 0.7459 - lstm2_accuracy: 0.0010 - val_loss: 0.4724 - val_final_loss: 0.4701 - val_lstm2_loss: 0.0000e+00 - val_final_accuracy: 0.8317 - val_lstm2_accuracy: 0.0037\n",
      "Epoch 5/30\n",
      "10000/10000 [==============================] - 4s 447us/sample - loss: 0.6020 - final_loss: 0.6020 - lstm2_loss: 0.0000e+00 - final_accuracy: 0.7582 - lstm2_accuracy: 0.0010 - val_loss: 0.4483 - val_final_loss: 0.4460 - val_lstm2_loss: 0.0000e+00 - val_final_accuracy: 0.8366 - val_lstm2_accuracy: 0.0037\n",
      "Epoch 6/30\n",
      "10000/10000 [==============================] - 5s 453us/sample - loss: 0.5741 - final_loss: 0.5741 - lstm2_loss: 0.0000e+00 - final_accuracy: 0.7680 - lstm2_accuracy: 0.0010 - val_loss: 0.4573 - val_final_loss: 0.4541 - val_lstm2_loss: 0.0000e+00 - val_final_accuracy: 0.8287 - val_lstm2_accuracy: 0.0037\n",
      "Epoch 7/30\n",
      "10000/10000 [==============================] - 4s 448us/sample - loss: 0.5573 - final_loss: 0.5573 - lstm2_loss: 0.0000e+00 - final_accuracy: 0.7757 - lstm2_accuracy: 0.0010 - val_loss: 0.4412 - val_final_loss: 0.4382 - val_lstm2_loss: 0.0000e+00 - val_final_accuracy: 0.8293 - val_lstm2_accuracy: 0.0037\n",
      "Epoch 8/30\n",
      "10000/10000 [==============================] - 4s 444us/sample - loss: 0.5393 - final_loss: 0.5393 - lstm2_loss: 0.0000e+00 - final_accuracy: 0.7841 - lstm2_accuracy: 0.0010 - val_loss: 0.4639 - val_final_loss: 0.4608 - val_lstm2_loss: 0.0000e+00 - val_final_accuracy: 0.8189 - val_lstm2_accuracy: 0.0037\n",
      "Epoch 9/30\n",
      "10000/10000 [==============================] - 4s 448us/sample - loss: 0.5206 - final_loss: 0.5206 - lstm2_loss: 0.0000e+00 - final_accuracy: 0.7884 - lstm2_accuracy: 0.0010 - val_loss: 0.4245 - val_final_loss: 0.4208 - val_lstm2_loss: 0.0000e+00 - val_final_accuracy: 0.8329 - val_lstm2_accuracy: 0.0037\n",
      "Epoch 10/30\n",
      "10000/10000 [==============================] - 4s 447us/sample - loss: 0.4993 - final_loss: 0.4993 - lstm2_loss: 0.0000e+00 - final_accuracy: 0.8005 - lstm2_accuracy: 0.0010 - val_loss: 0.4676 - val_final_loss: 0.4643 - val_lstm2_loss: 0.0000e+00 - val_final_accuracy: 0.8152 - val_lstm2_accuracy: 0.0037\n",
      "Epoch 11/30\n",
      "10000/10000 [==============================] - 4s 449us/sample - loss: 0.4820 - final_loss: 0.4820 - lstm2_loss: 0.0000e+00 - final_accuracy: 0.8056 - lstm2_accuracy: 0.0010 - val_loss: 0.5327 - val_final_loss: 0.5269 - val_lstm2_loss: 0.0000e+00 - val_final_accuracy: 0.7982 - val_lstm2_accuracy: 0.0037\n",
      "Epoch 12/30\n",
      "10000/10000 [==============================] - 5s 452us/sample - loss: 0.4746 - final_loss: 0.4746 - lstm2_loss: 0.0000e+00 - final_accuracy: 0.8089 - lstm2_accuracy: 0.0010 - val_loss: 0.4394 - val_final_loss: 0.4378 - val_lstm2_loss: 0.0000e+00 - val_final_accuracy: 0.8262 - val_lstm2_accuracy: 0.0037\n",
      "Epoch 13/30\n",
      "10000/10000 [==============================] - 4s 449us/sample - loss: 0.4467 - final_loss: 0.4467 - lstm2_loss: 0.0000e+00 - final_accuracy: 0.8225 - lstm2_accuracy: 0.0010 - val_loss: 0.4444 - val_final_loss: 0.4417 - val_lstm2_loss: 0.0000e+00 - val_final_accuracy: 0.8262 - val_lstm2_accuracy: 0.0037\n",
      "Epoch 14/30\n",
      "10000/10000 [==============================] - 4s 444us/sample - loss: 0.4232 - final_loss: 0.4232 - lstm2_loss: 0.0000e+00 - final_accuracy: 0.8315 - lstm2_accuracy: 0.0010 - val_loss: 0.4732 - val_final_loss: 0.4689 - val_lstm2_loss: 0.0000e+00 - val_final_accuracy: 0.8220 - val_lstm2_accuracy: 0.0037\n",
      "Epoch 15/30\n",
      "10000/10000 [==============================] - 4s 445us/sample - loss: 0.4252 - final_loss: 0.4252 - lstm2_loss: 0.0000e+00 - final_accuracy: 0.8275 - lstm2_accuracy: 0.0010 - val_loss: 0.5616 - val_final_loss: 0.5535 - val_lstm2_loss: 0.0000e+00 - val_final_accuracy: 0.8116 - val_lstm2_accuracy: 0.0037\n",
      "Epoch 16/30\n",
      "10000/10000 [==============================] - 5s 452us/sample - loss: 0.3847 - final_loss: 0.3847 - lstm2_loss: 0.0000e+00 - final_accuracy: 0.8455 - lstm2_accuracy: 0.0010 - val_loss: 0.6823 - val_final_loss: 0.6737 - val_lstm2_loss: 0.0000e+00 - val_final_accuracy: 0.7628 - val_lstm2_accuracy: 0.0037\n",
      "Epoch 17/30\n",
      "10000/10000 [==============================] - 4s 448us/sample - loss: 0.3799 - final_loss: 0.3799 - lstm2_loss: 0.0000e+00 - final_accuracy: 0.8521 - lstm2_accuracy: 0.0010 - val_loss: 0.5273 - val_final_loss: 0.5217 - val_lstm2_loss: 0.0000e+00 - val_final_accuracy: 0.8201 - val_lstm2_accuracy: 0.0037\n",
      "Epoch 18/30\n",
      "10000/10000 [==============================] - 4s 448us/sample - loss: 0.3412 - final_loss: 0.3412 - lstm2_loss: 0.0000e+00 - final_accuracy: 0.8635 - lstm2_accuracy: 0.0010 - val_loss: 0.5620 - val_final_loss: 0.5547 - val_lstm2_loss: 0.0000e+00 - val_final_accuracy: 0.8043 - val_lstm2_accuracy: 0.0037\n",
      "Epoch 19/30\n",
      "10000/10000 [==============================] - 4s 445us/sample - loss: 0.3316 - final_loss: 0.3316 - lstm2_loss: 0.0000e+00 - final_accuracy: 0.8670 - lstm2_accuracy: 0.0010 - val_loss: 0.6621 - val_final_loss: 0.6539 - val_lstm2_loss: 0.0000e+00 - val_final_accuracy: 0.7872 - val_lstm2_accuracy: 0.0037\n",
      "Epoch 20/30\n",
      "10000/10000 [==============================] - 4s 448us/sample - loss: 0.3098 - final_loss: 0.3098 - lstm2_loss: 0.0000e+00 - final_accuracy: 0.8766 - lstm2_accuracy: 0.0010 - val_loss: 0.6003 - val_final_loss: 0.5956 - val_lstm2_loss: 0.0000e+00 - val_final_accuracy: 0.7982 - val_lstm2_accuracy: 0.0037\n",
      "Epoch 21/30\n",
      "10000/10000 [==============================] - 4s 444us/sample - loss: 0.2812 - final_loss: 0.2812 - lstm2_loss: 0.0000e+00 - final_accuracy: 0.8885 - lstm2_accuracy: 0.0010 - val_loss: 0.6814 - val_final_loss: 0.6788 - val_lstm2_loss: 0.0000e+00 - val_final_accuracy: 0.7793 - val_lstm2_accuracy: 0.0037\n",
      "Epoch 22/30\n",
      "10000/10000 [==============================] - 4s 446us/sample - loss: 0.2675 - final_loss: 0.2675 - lstm2_loss: 0.0000e+00 - final_accuracy: 0.8930 - lstm2_accuracy: 0.0010 - val_loss: 0.6459 - val_final_loss: 0.6454 - val_lstm2_loss: 0.0000e+00 - val_final_accuracy: 0.8006 - val_lstm2_accuracy: 0.0037\n",
      "Epoch 23/30\n",
      "10000/10000 [==============================] - 4s 447us/sample - loss: 0.2495 - final_loss: 0.2495 - lstm2_loss: 0.0000e+00 - final_accuracy: 0.9043 - lstm2_accuracy: 0.0010 - val_loss: 0.7513 - val_final_loss: 0.7469 - val_lstm2_loss: 0.0000e+00 - val_final_accuracy: 0.7524 - val_lstm2_accuracy: 0.0037\n",
      "Epoch 24/30\n",
      "10000/10000 [==============================] - 4s 448us/sample - loss: 0.2278 - final_loss: 0.2278 - lstm2_loss: 0.0000e+00 - final_accuracy: 0.9104 - lstm2_accuracy: 0.0010 - val_loss: 0.6878 - val_final_loss: 0.6888 - val_lstm2_loss: 0.0000e+00 - val_final_accuracy: 0.8061 - val_lstm2_accuracy: 0.0037\n",
      "Epoch 25/30\n",
      "10000/10000 [==============================] - 4s 447us/sample - loss: 0.2223 - final_loss: 0.2223 - lstm2_loss: 0.0000e+00 - final_accuracy: 0.9142 - lstm2_accuracy: 0.0010 - val_loss: 0.7320 - val_final_loss: 0.7293 - val_lstm2_loss: 0.0000e+00 - val_final_accuracy: 0.7988 - val_lstm2_accuracy: 0.0037\n",
      "Epoch 26/30\n",
      "10000/10000 [==============================] - 5s 454us/sample - loss: 0.1921 - final_loss: 0.1921 - lstm2_loss: 0.0000e+00 - final_accuracy: 0.9264 - lstm2_accuracy: 0.0010 - val_loss: 0.9866 - val_final_loss: 0.9840 - val_lstm2_loss: 0.0000e+00 - val_final_accuracy: 0.7470 - val_lstm2_accuracy: 0.0037\n"
     ]
    },
    {
     "name": "stdout",
     "output_type": "stream",
     "text": [
      "Epoch 27/30\n",
      "10000/10000 [==============================] - 5s 468us/sample - loss: 0.1813 - final_loss: 0.1813 - lstm2_loss: 0.0000e+00 - final_accuracy: 0.9300 - lstm2_accuracy: 0.0010 - val_loss: 0.9430 - val_final_loss: 0.9376 - val_lstm2_loss: 0.0000e+00 - val_final_accuracy: 0.7848 - val_lstm2_accuracy: 0.0037\n",
      "Epoch 28/30\n",
      "10000/10000 [==============================] - 5s 451us/sample - loss: 0.1681 - final_loss: 0.1681 - lstm2_loss: 0.0000e+00 - final_accuracy: 0.9376 - lstm2_accuracy: 0.0010 - val_loss: 0.9083 - val_final_loss: 0.9020 - val_lstm2_loss: 0.0000e+00 - val_final_accuracy: 0.7957 - val_lstm2_accuracy: 0.0037\n",
      "Epoch 29/30\n",
      "10000/10000 [==============================] - 4s 444us/sample - loss: 0.1465 - final_loss: 0.1465 - lstm2_loss: 0.0000e+00 - final_accuracy: 0.9453 - lstm2_accuracy: 0.0010 - val_loss: 0.9687 - val_final_loss: 0.9708 - val_lstm2_loss: 0.0000e+00 - val_final_accuracy: 0.7732 - val_lstm2_accuracy: 0.0037\n",
      "Epoch 30/30\n",
      "10000/10000 [==============================] - 4s 446us/sample - loss: 0.1382 - final_loss: 0.1382 - lstm2_loss: 0.0000e+00 - final_accuracy: 0.9482 - lstm2_accuracy: 0.0010 - val_loss: 1.0892 - val_final_loss: 1.0831 - val_lstm2_loss: 0.0000e+00 - val_final_accuracy: 0.7555 - val_lstm2_accuracy: 0.0037\n"
     ]
    }
   ],
   "source": [
    "history=model.fit(x=X_train,y={'final':Y_train,'lstm2':Y_ggg},epochs=30,batch_size=100,validation_data=(X_dev,[Y_dev,Y_ggv]))"
   ]
  },
  {
   "cell_type": "code",
   "execution_count": 31,
   "metadata": {},
   "outputs": [
    {
     "data": {
      "image/png": "[encoded data removed]",
      "text/plain": [
       "<Figure size 432x288 with 1 Axes>"
      ]
     },
     "metadata": {
      "needs_background": "light"
     },
     "output_type": "display_data"
    },
    {
     "data": {
      "image/png": "[encoded data removed]",
      "text/plain": [
       "<Figure size 432x288 with 1 Axes>"
      ]
     },
     "metadata": {
      "needs_background": "light"
     },
     "output_type": "display_data"
    }
   ],
   "source": [
    "plot_graphs(history, 'final_'+'accuracy')\n",
    "plt.plot(history.history['final_loss'])\n",
    "plt.plot(history.history['val_'+'loss'],'')\n",
    "plt.xlabel(\"Epochs\")\n",
    "plt.ylabel('loss')\n",
    "plt.legend(['loss', 'val_'+'loss'])\n",
    "plt.title(\"loss\")\n",
    "plt.show()"
   ]
  },
  {
   "cell_type": "code",
   "execution_count": 32,
   "metadata": {},
   "outputs": [],
   "source": [
    "def pred(e,word_idx):\n",
    "    p=model.predict(e)\n",
    "    sentidx=np.argmax(p[0])\n",
    "    if(sentidx==0):\n",
    "        sent=\"Negative\"\n",
    "    elif(sentidx==1):\n",
    "        sent=\"Positive\"\n",
    "    else:\n",
    "        sent=\"Neutral\"\n",
    "    print(sent+\"|\"+str(p[0][0][sentidx]))   \n",
    "    nl=0    \n",
    "    for i in range(100):\n",
    "        if e[0][i]!=0:\n",
    "            nl=nl+1\n",
    "        else:\n",
    "            break\n",
    "    colours=[]    \n",
    "    #print-negative/positive reason\n",
    "    reason=[]\n",
    "    if sentidx==0:    \n",
    "        for j in range(nl):\n",
    "            if p[1][0][j]<0:\n",
    "                reason.append(e[0][j])\n",
    "            else:\n",
    "                if p[1][0][j-1]<0 and p[1][0][j+1]<0:\n",
    "                    reason.append(e[0][j])\n",
    "        reason1=[]\n",
    "        for jk in range(len(reason)):\n",
    "            for word,idx in word_idx.items():\n",
    "                if reason[jk]==idx:\n",
    "                    reason1.append(word)\n",
    "        reason2=''            \n",
    "        for j in range(len(reason1)):\n",
    "            reason2=reason2+' '+reason1[j]\n",
    "        print('Negative-reason: '+reason2)    \n",
    "    if sentidx==1:    \n",
    "        for j in range(nl):\n",
    "            if p[1][0][j]>0:\n",
    "                reason.append(e[0][j])\n",
    "            else:\n",
    "                if p[1][0][j-1]>0 and p[1][0][j+1]>0:\n",
    "                    reason.append(e[0][j])\n",
    "        reason1=[]\n",
    "        for jk in range(len(reason)):\n",
    "            for word,idx in word_idx.items():\n",
    "                if reason[jk]==idx:\n",
    "                    reason1.append(word)\n",
    "        reason2=''            \n",
    "        for j in range(len(reason1)):\n",
    "            reason2=reason2+' '+reason1[j]\n",
    "        print('Positive-reason: '+reason2)            \n",
    "    for i in range(nl):\n",
    "        if p[1][0][i]>0:\n",
    "            colours.append('green')\n",
    "        elif p[1][0][i]<0:\n",
    "            colours.append('red')\n",
    "            p[1][0][i]=abs(p[1][0][i])\n",
    "    sum=np.sum(p[1][0])        \n",
    "    sizes=[]\n",
    "    labels=[]\n",
    "    for j in range(nl):\n",
    "        for word,ind in word_idx.items():\n",
    "            if e[0][j]==ind:\n",
    "                labels.append(word+'-'+str(j))\n",
    "        sizes.append(p[1][0][j]*100/sum)\n",
    "    plt.pie(sizes,labels=labels,colors=colours,wedgeprops={'linewidth':1,'edgecolor':'k'},radius=1.5)\n",
    "    plt.show()"
   ]
  },
  {
   "cell_type": "code",
   "execution_count": 42,
   "metadata": {},
   "outputs": [],
   "source": [
    "e=X_train[3,:]\n",
    "e=np.reshape(e,(1,100))"
   ]
  },
  {
   "cell_type": "code",
   "execution_count": 43,
   "metadata": {},
   "outputs": [
    {
     "name": "stdout",
     "output_type": "stream",
     "text": [
      "Negative|0.9998704\n",
      "Negative-reason:  virginamerica its really aggressive in your guests faces amp they have little recourse\n"
     ]
    },
    {
     "data": {
      "image/png": "[encoded data removed]",
      "text/plain": [
       "<Figure size 432x288 with 1 Axes>"
      ]
     },
     "metadata": {},
     "output_type": "display_data"
    }
   ],
   "source": [
    "pred(e,word_idx)"
   ]
  },
  {
   "cell_type": "code",
   "execution_count": null,
   "metadata": {},
   "outputs": [],
   "source": []
  },
  {
   "cell_type": "code",
   "execution_count": null,
   "metadata": {},
   "outputs": [],
   "source": []
  },
  {
   "cell_type": "code",
   "execution_count": null,
   "metadata": {},
   "outputs": [],
   "source": []
  },
  {
   "cell_type": "code",
   "execution_count": null,
   "metadata": {},
   "outputs": [],
   "source": []
  },
  {
   "cell_type": "code",
   "execution_count": null,
   "metadata": {},
   "outputs": [],
   "source": []
  },
  {
   "cell_type": "code",
   "execution_count": null,
   "metadata": {},
   "outputs": [],
   "source": []
  },
  {
   "cell_type": "code",
   "execution_count": null,
   "metadata": {},
   "outputs": [],
   "source": []
  },
  {
   "cell_type": "code",
   "execution_count": null,
   "metadata": {},
   "outputs": [],
   "source": []
  },
  {
   "cell_type": "code",
   "execution_count": null,
   "metadata": {},
   "outputs": [],
   "source": []
  }
 ],
 "metadata": {
  "kernelspec": {
   "display_name": "Python 3",
   "language": "python",
   "name": "python3"
  },
  "language_info": {
   "codemirror_mode": {
    "name": "ipython",
    "version": 3
   },
   "file_extension": ".py",
   "mimetype": "text/x-python",
   "name": "python",
   "nbconvert_exporter": "python",
   "pygments_lexer": "ipython3",
   "version": "3.7.9"
  }
 },
 "nbformat": 4,
 "nbformat_minor": 4
}
